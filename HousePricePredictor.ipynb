{
 "cells": [
  {
   "cell_type": "code",
   "execution_count": 9,
   "id": "a023efaf-0ba9-48c2-a551-01c7dfd2e5e5",
   "metadata": {},
   "outputs": [],
   "source": [
    "%matplotlib inline\n",
    "import numpy as np\n",
    "import pandas as pd\n",
    "import matplotlib.pyplot as plt\n",
    "import seaborn as sns\n",
    "\n",
    "from sklearn.model_selection import train_test_split\n",
    "from sklearn.linear_model import LinearRegression\n",
    "from sklearn.metrics import mean_squared_error"
   ]
  },
  {
   "cell_type": "code",
   "execution_count": 11,
   "id": "7a370591-01f3-4bfb-9182-05153a803569",
   "metadata": {},
   "outputs": [
    {
     "data": {
      "text/html": [
       "<div>\n",
       "<style scoped>\n",
       "    .dataframe tbody tr th:only-of-type {\n",
       "        vertical-align: middle;\n",
       "    }\n",
       "\n",
       "    .dataframe tbody tr th {\n",
       "        vertical-align: top;\n",
       "    }\n",
       "\n",
       "    .dataframe thead th {\n",
       "        text-align: right;\n",
       "    }\n",
       "</style>\n",
       "<table border=\"1\" class=\"dataframe\">\n",
       "  <thead>\n",
       "    <tr style=\"text-align: right;\">\n",
       "      <th></th>\n",
       "      <th>date</th>\n",
       "      <th>median_sale_price</th>\n",
       "      <th>median_list_price</th>\n",
       "      <th>median_ppsf</th>\n",
       "      <th>median_list_ppsf</th>\n",
       "      <th>homes_sold</th>\n",
       "      <th>pending_sales</th>\n",
       "      <th>new_listings</th>\n",
       "      <th>inventory</th>\n",
       "      <th>median_dom</th>\n",
       "      <th>...</th>\n",
       "      <th>Total Housing Units</th>\n",
       "      <th>Median Rent</th>\n",
       "      <th>Median Home Value</th>\n",
       "      <th>Total Labor Force</th>\n",
       "      <th>Unemployed Population</th>\n",
       "      <th>Total School Age Population</th>\n",
       "      <th>Total School Enrollment</th>\n",
       "      <th>Median Commute Time</th>\n",
       "      <th>price</th>\n",
       "      <th>city_full</th>\n",
       "    </tr>\n",
       "  </thead>\n",
       "  <tbody>\n",
       "    <tr>\n",
       "      <th>0</th>\n",
       "      <td>2012-03-31</td>\n",
       "      <td>46550.0</td>\n",
       "      <td>217450.0</td>\n",
       "      <td>31.813674</td>\n",
       "      <td>110.183666</td>\n",
       "      <td>14.0</td>\n",
       "      <td>23.0</td>\n",
       "      <td>44.0</td>\n",
       "      <td>64.0</td>\n",
       "      <td>59.5</td>\n",
       "      <td>...</td>\n",
       "      <td>2677.0</td>\n",
       "      <td>710.0</td>\n",
       "      <td>279500.0</td>\n",
       "      <td>3171.0</td>\n",
       "      <td>460.0</td>\n",
       "      <td>5408.0</td>\n",
       "      <td>5408.0</td>\n",
       "      <td>2492.0</td>\n",
       "      <td>200773.999557</td>\n",
       "      <td>Atlanta-Sandy Springs-Alpharetta</td>\n",
       "    </tr>\n",
       "    <tr>\n",
       "      <th>1</th>\n",
       "      <td>2012-04-30</td>\n",
       "      <td>61870.0</td>\n",
       "      <td>245000.0</td>\n",
       "      <td>40.723982</td>\n",
       "      <td>130.528256</td>\n",
       "      <td>22.0</td>\n",
       "      <td>29.0</td>\n",
       "      <td>56.0</td>\n",
       "      <td>69.0</td>\n",
       "      <td>89.5</td>\n",
       "      <td>...</td>\n",
       "      <td>2677.0</td>\n",
       "      <td>710.0</td>\n",
       "      <td>279500.0</td>\n",
       "      <td>3171.0</td>\n",
       "      <td>460.0</td>\n",
       "      <td>5408.0</td>\n",
       "      <td>5408.0</td>\n",
       "      <td>2492.0</td>\n",
       "      <td>202421.064584</td>\n",
       "      <td>Atlanta-Sandy Springs-Alpharetta</td>\n",
       "    </tr>\n",
       "    <tr>\n",
       "      <th>2</th>\n",
       "      <td>2012-05-31</td>\n",
       "      <td>125500.0</td>\n",
       "      <td>217450.0</td>\n",
       "      <td>63.913043</td>\n",
       "      <td>119.919216</td>\n",
       "      <td>24.0</td>\n",
       "      <td>40.0</td>\n",
       "      <td>63.0</td>\n",
       "      <td>60.0</td>\n",
       "      <td>144.5</td>\n",
       "      <td>...</td>\n",
       "      <td>2677.0</td>\n",
       "      <td>710.0</td>\n",
       "      <td>279500.0</td>\n",
       "      <td>3171.0</td>\n",
       "      <td>460.0</td>\n",
       "      <td>5408.0</td>\n",
       "      <td>5408.0</td>\n",
       "      <td>2492.0</td>\n",
       "      <td>202681.309539</td>\n",
       "      <td>Atlanta-Sandy Springs-Alpharetta</td>\n",
       "    </tr>\n",
       "    <tr>\n",
       "      <th>3</th>\n",
       "      <td>2012-06-30</td>\n",
       "      <td>153000.0</td>\n",
       "      <td>189900.0</td>\n",
       "      <td>81.598080</td>\n",
       "      <td>105.617353</td>\n",
       "      <td>34.0</td>\n",
       "      <td>46.0</td>\n",
       "      <td>50.0</td>\n",
       "      <td>57.0</td>\n",
       "      <td>126.0</td>\n",
       "      <td>...</td>\n",
       "      <td>2677.0</td>\n",
       "      <td>710.0</td>\n",
       "      <td>279500.0</td>\n",
       "      <td>3171.0</td>\n",
       "      <td>460.0</td>\n",
       "      <td>5408.0</td>\n",
       "      <td>5408.0</td>\n",
       "      <td>2492.0</td>\n",
       "      <td>202998.603897</td>\n",
       "      <td>Atlanta-Sandy Springs-Alpharetta</td>\n",
       "    </tr>\n",
       "    <tr>\n",
       "      <th>4</th>\n",
       "      <td>2012-07-31</td>\n",
       "      <td>165500.0</td>\n",
       "      <td>154000.0</td>\n",
       "      <td>81.598080</td>\n",
       "      <td>83.921175</td>\n",
       "      <td>39.0</td>\n",
       "      <td>49.0</td>\n",
       "      <td>42.0</td>\n",
       "      <td>50.0</td>\n",
       "      <td>80.0</td>\n",
       "      <td>...</td>\n",
       "      <td>2677.0</td>\n",
       "      <td>710.0</td>\n",
       "      <td>279500.0</td>\n",
       "      <td>3171.0</td>\n",
       "      <td>460.0</td>\n",
       "      <td>5408.0</td>\n",
       "      <td>5408.0</td>\n",
       "      <td>2492.0</td>\n",
       "      <td>203781.903446</td>\n",
       "      <td>Atlanta-Sandy Springs-Alpharetta</td>\n",
       "    </tr>\n",
       "  </tbody>\n",
       "</table>\n",
       "<p>5 rows × 39 columns</p>\n",
       "</div>"
      ],
      "text/plain": [
       "         date  median_sale_price  median_list_price  median_ppsf  \\\n",
       "0  2012-03-31            46550.0           217450.0    31.813674   \n",
       "1  2012-04-30            61870.0           245000.0    40.723982   \n",
       "2  2012-05-31           125500.0           217450.0    63.913043   \n",
       "3  2012-06-30           153000.0           189900.0    81.598080   \n",
       "4  2012-07-31           165500.0           154000.0    81.598080   \n",
       "\n",
       "   median_list_ppsf  homes_sold  pending_sales  new_listings  inventory  \\\n",
       "0        110.183666        14.0           23.0          44.0       64.0   \n",
       "1        130.528256        22.0           29.0          56.0       69.0   \n",
       "2        119.919216        24.0           40.0          63.0       60.0   \n",
       "3        105.617353        34.0           46.0          50.0       57.0   \n",
       "4         83.921175        39.0           49.0          42.0       50.0   \n",
       "\n",
       "   median_dom  ...  Total Housing Units  Median Rent  Median Home Value  \\\n",
       "0        59.5  ...               2677.0        710.0           279500.0   \n",
       "1        89.5  ...               2677.0        710.0           279500.0   \n",
       "2       144.5  ...               2677.0        710.0           279500.0   \n",
       "3       126.0  ...               2677.0        710.0           279500.0   \n",
       "4        80.0  ...               2677.0        710.0           279500.0   \n",
       "\n",
       "  Total Labor Force  Unemployed Population  Total School Age Population  \\\n",
       "0            3171.0                  460.0                       5408.0   \n",
       "1            3171.0                  460.0                       5408.0   \n",
       "2            3171.0                  460.0                       5408.0   \n",
       "3            3171.0                  460.0                       5408.0   \n",
       "4            3171.0                  460.0                       5408.0   \n",
       "\n",
       "   Total School Enrollment  Median Commute Time          price  \\\n",
       "0                   5408.0               2492.0  200773.999557   \n",
       "1                   5408.0               2492.0  202421.064584   \n",
       "2                   5408.0               2492.0  202681.309539   \n",
       "3                   5408.0               2492.0  202998.603897   \n",
       "4                   5408.0               2492.0  203781.903446   \n",
       "\n",
       "                          city_full  \n",
       "0  Atlanta-Sandy Springs-Alpharetta  \n",
       "1  Atlanta-Sandy Springs-Alpharetta  \n",
       "2  Atlanta-Sandy Springs-Alpharetta  \n",
       "3  Atlanta-Sandy Springs-Alpharetta  \n",
       "4  Atlanta-Sandy Springs-Alpharetta  \n",
       "\n",
       "[5 rows x 39 columns]"
      ]
     },
     "execution_count": 11,
     "metadata": {},
     "output_type": "execute_result"
    }
   ],
   "source": [
    "df = pd.read_csv(\"HouseTS.csv\")\n",
    "df.head()"
   ]
  },
  {
   "cell_type": "code",
   "execution_count": 12,
   "id": "fc1c3546-8bc2-4dbb-b619-763d38e53b8f",
   "metadata": {},
   "outputs": [
    {
     "name": "stdout",
     "output_type": "stream",
     "text": [
      "Index(['date', 'median_sale_price', 'median_list_price', 'median_ppsf',\n",
      "       'median_list_ppsf', 'homes_sold', 'pending_sales', 'new_listings',\n",
      "       'inventory', 'median_dom', 'avg_sale_to_list', 'sold_above_list',\n",
      "       'off_market_in_two_weeks', 'city', 'zipcode', 'year', 'bank', 'bus',\n",
      "       'hospital', 'mall', 'park', 'restaurant', 'school', 'station',\n",
      "       'supermarket', 'Total Population', 'Median Age', 'Per Capita Income',\n",
      "       'Total Families Below Poverty', 'Total Housing Units', 'Median Rent',\n",
      "       'Median Home Value', 'Total Labor Force', 'Unemployed Population',\n",
      "       'Total School Age Population', 'Total School Enrollment',\n",
      "       'Median Commute Time', 'price', 'city_full'],\n",
      "      dtype='object')\n",
      "       median_sale_price  median_list_price    median_ppsf  median_list_ppsf  \\\n",
      "count       8.840920e+05       8.840920e+05  884092.000000     884092.000000   \n",
      "mean        3.941026e+05       4.229849e+05     223.068328        231.169836   \n",
      "std         3.815481e+05       1.899201e+06     696.724208        290.120210   \n",
      "min         0.000000e+00       0.000000e+00       0.000000          0.000000   \n",
      "25%         1.850000e+05       1.990000e+05     110.639667        116.818175   \n",
      "50%         3.025000e+05       3.200000e+05     166.093929        173.142587   \n",
      "75%         4.800000e+05       4.999000e+05     260.626280        270.181473   \n",
      "max         2.050000e+07       1.000000e+09  366700.000000     143015.398551   \n",
      "\n",
      "          homes_sold  pending_sales   new_listings      inventory  \\\n",
      "count  884092.000000  884092.000000  884092.000000  884092.000000   \n",
      "mean       76.722786      81.471457      92.910352      77.300772   \n",
      "std        76.698331      85.327617      92.695852      89.041772   \n",
      "min         0.000000       0.000000       0.000000       0.000000   \n",
      "25%        19.000000      17.000000      24.000000      20.000000   \n",
      "50%        55.000000      57.000000      67.000000      50.000000   \n",
      "75%       111.000000     119.000000     133.000000     103.000000   \n",
      "max       955.000000    1374.000000    1112.000000    1941.000000   \n",
      "\n",
      "          median_dom  avg_sale_to_list  ...  Total Families Below Poverty  \\\n",
      "count  884092.000000     884092.000000  ...                 884092.000000   \n",
      "mean       61.289875          0.978253  ...                  21457.525088   \n",
      "std        82.220497          0.063550  ...                  19554.169658   \n",
      "min         0.000000          0.000000  ...                      0.000000   \n",
      "25%        26.000000          0.965158  ...                   4404.000000   \n",
      "50%        45.000000          0.982062  ...                  17489.000000   \n",
      "75%        74.000000          0.998206  ...                  32991.000000   \n",
      "max      7777.000000          1.906250  ...                 130605.000000   \n",
      "\n",
      "       Total Housing Units    Median Rent  Median Home Value  \\\n",
      "count        884092.000000  884092.000000       8.840920e+05   \n",
      "mean           8714.480844    1146.686284       3.147922e+05   \n",
      "std            7588.635086     547.236746       2.672194e+05   \n",
      "min               0.000000       0.000000       0.000000e+00   \n",
      "25%            1930.000000     852.000000       1.436000e+05   \n",
      "50%            7426.000000    1114.000000       2.501000e+05   \n",
      "75%           13564.000000    1446.000000       4.125000e+05   \n",
      "max           48734.000000    3501.000000       2.000001e+06   \n",
      "\n",
      "       Total Labor Force  Unemployed Population  Total School Age Population  \\\n",
      "count      884092.000000          884092.000000                884092.000000   \n",
      "mean        11455.779512             829.769133                 20998.337745   \n",
      "std         10429.516147             954.753745                 19008.391216   \n",
      "min             0.000000               0.000000                     0.000000   \n",
      "25%          2320.000000             127.000000                  4369.000000   \n",
      "50%          9299.000000             538.000000                 17247.000000   \n",
      "75%         17702.000000            1192.000000                 32290.000000   \n",
      "max         68735.000000            9735.000000                126948.000000   \n",
      "\n",
      "       Total School Enrollment  Median Commute Time         price  \n",
      "count            884092.000000        884092.000000  8.840920e+05  \n",
      "mean              20998.337745          9687.919963  3.913289e+05  \n",
      "std               19008.391216          8841.743137  3.445383e+05  \n",
      "min                   0.000000             0.000000  1.046432e+04  \n",
      "25%                4369.000000          1945.000000  1.897063e+05  \n",
      "50%               17247.000000          7830.500000  3.050190e+05  \n",
      "75%               32290.000000         15013.000000  4.797111e+05  \n",
      "max              126948.000000         60956.000000  8.463116e+06  \n",
      "\n",
      "[8 rows x 36 columns]\n"
     ]
    },
    {
     "ename": "KeyError",
     "evalue": "\"None of [Index(['RM', 'LSTAT', 'PTRATIO', 'PRICE'], dtype='object')] are in the [columns]\"",
     "output_type": "error",
     "traceback": [
      "\u001b[31m---------------------------------------------------------------------------\u001b[39m",
      "\u001b[31mKeyError\u001b[39m                                  Traceback (most recent call last)",
      "\u001b[36mCell\u001b[39m\u001b[36m \u001b[39m\u001b[32mIn[12]\u001b[39m\u001b[32m, line 4\u001b[39m\n\u001b[32m      1\u001b[39m \u001b[38;5;28mprint\u001b[39m(df.columns)\n\u001b[32m      2\u001b[39m \u001b[38;5;28mprint\u001b[39m(df.describe())\n\u001b[32m----> \u001b[39m\u001b[32m4\u001b[39m sns.pairplot(\u001b[43mdf\u001b[49m\u001b[43m[\u001b[49m\u001b[43m[\u001b[49m\u001b[33;43m'\u001b[39;49m\u001b[33;43mRM\u001b[39;49m\u001b[33;43m'\u001b[39;49m\u001b[43m,\u001b[49m\u001b[43m \u001b[49m\u001b[33;43m'\u001b[39;49m\u001b[33;43mLSTAT\u001b[39;49m\u001b[33;43m'\u001b[39;49m\u001b[43m,\u001b[49m\u001b[43m \u001b[49m\u001b[33;43m'\u001b[39;49m\u001b[33;43mPTRATIO\u001b[39;49m\u001b[33;43m'\u001b[39;49m\u001b[43m,\u001b[49m\u001b[43m \u001b[49m\u001b[33;43m'\u001b[39;49m\u001b[33;43mPRICE\u001b[39;49m\u001b[33;43m'\u001b[39;49m\u001b[43m]\u001b[49m\u001b[43m]\u001b[49m)\n\u001b[32m      5\u001b[39m plt.show()\n",
      "\u001b[36mFile \u001b[39m\u001b[32m~\\Documents\\50projects50days\\Project1\\pro1\\Lib\\site-packages\\pandas\\core\\frame.py:4113\u001b[39m, in \u001b[36mDataFrame.__getitem__\u001b[39m\u001b[34m(self, key)\u001b[39m\n\u001b[32m   4111\u001b[39m     \u001b[38;5;28;01mif\u001b[39;00m is_iterator(key):\n\u001b[32m   4112\u001b[39m         key = \u001b[38;5;28mlist\u001b[39m(key)\n\u001b[32m-> \u001b[39m\u001b[32m4113\u001b[39m     indexer = \u001b[38;5;28;43mself\u001b[39;49m\u001b[43m.\u001b[49m\u001b[43mcolumns\u001b[49m\u001b[43m.\u001b[49m\u001b[43m_get_indexer_strict\u001b[49m\u001b[43m(\u001b[49m\u001b[43mkey\u001b[49m\u001b[43m,\u001b[49m\u001b[43m \u001b[49m\u001b[33;43m\"\u001b[39;49m\u001b[33;43mcolumns\u001b[39;49m\u001b[33;43m\"\u001b[39;49m\u001b[43m)\u001b[49m[\u001b[32m1\u001b[39m]\n\u001b[32m   4115\u001b[39m \u001b[38;5;66;03m# take() does not accept boolean indexers\u001b[39;00m\n\u001b[32m   4116\u001b[39m \u001b[38;5;28;01mif\u001b[39;00m \u001b[38;5;28mgetattr\u001b[39m(indexer, \u001b[33m\"\u001b[39m\u001b[33mdtype\u001b[39m\u001b[33m\"\u001b[39m, \u001b[38;5;28;01mNone\u001b[39;00m) == \u001b[38;5;28mbool\u001b[39m:\n",
      "\u001b[36mFile \u001b[39m\u001b[32m~\\Documents\\50projects50days\\Project1\\pro1\\Lib\\site-packages\\pandas\\core\\indexes\\base.py:6212\u001b[39m, in \u001b[36mIndex._get_indexer_strict\u001b[39m\u001b[34m(self, key, axis_name)\u001b[39m\n\u001b[32m   6209\u001b[39m \u001b[38;5;28;01melse\u001b[39;00m:\n\u001b[32m   6210\u001b[39m     keyarr, indexer, new_indexer = \u001b[38;5;28mself\u001b[39m._reindex_non_unique(keyarr)\n\u001b[32m-> \u001b[39m\u001b[32m6212\u001b[39m \u001b[38;5;28;43mself\u001b[39;49m\u001b[43m.\u001b[49m\u001b[43m_raise_if_missing\u001b[49m\u001b[43m(\u001b[49m\u001b[43mkeyarr\u001b[49m\u001b[43m,\u001b[49m\u001b[43m \u001b[49m\u001b[43mindexer\u001b[49m\u001b[43m,\u001b[49m\u001b[43m \u001b[49m\u001b[43maxis_name\u001b[49m\u001b[43m)\u001b[49m\n\u001b[32m   6214\u001b[39m keyarr = \u001b[38;5;28mself\u001b[39m.take(indexer)\n\u001b[32m   6215\u001b[39m \u001b[38;5;28;01mif\u001b[39;00m \u001b[38;5;28misinstance\u001b[39m(key, Index):\n\u001b[32m   6216\u001b[39m     \u001b[38;5;66;03m# GH 42790 - Preserve name from an Index\u001b[39;00m\n",
      "\u001b[36mFile \u001b[39m\u001b[32m~\\Documents\\50projects50days\\Project1\\pro1\\Lib\\site-packages\\pandas\\core\\indexes\\base.py:6261\u001b[39m, in \u001b[36mIndex._raise_if_missing\u001b[39m\u001b[34m(self, key, indexer, axis_name)\u001b[39m\n\u001b[32m   6259\u001b[39m \u001b[38;5;28;01mif\u001b[39;00m nmissing:\n\u001b[32m   6260\u001b[39m     \u001b[38;5;28;01mif\u001b[39;00m nmissing == \u001b[38;5;28mlen\u001b[39m(indexer):\n\u001b[32m-> \u001b[39m\u001b[32m6261\u001b[39m         \u001b[38;5;28;01mraise\u001b[39;00m \u001b[38;5;167;01mKeyError\u001b[39;00m(\u001b[33mf\u001b[39m\u001b[33m\"\u001b[39m\u001b[33mNone of [\u001b[39m\u001b[38;5;132;01m{\u001b[39;00mkey\u001b[38;5;132;01m}\u001b[39;00m\u001b[33m] are in the [\u001b[39m\u001b[38;5;132;01m{\u001b[39;00maxis_name\u001b[38;5;132;01m}\u001b[39;00m\u001b[33m]\u001b[39m\u001b[33m\"\u001b[39m)\n\u001b[32m   6263\u001b[39m     not_found = \u001b[38;5;28mlist\u001b[39m(ensure_index(key)[missing_mask.nonzero()[\u001b[32m0\u001b[39m]].unique())\n\u001b[32m   6264\u001b[39m     \u001b[38;5;28;01mraise\u001b[39;00m \u001b[38;5;167;01mKeyError\u001b[39;00m(\u001b[33mf\u001b[39m\u001b[33m\"\u001b[39m\u001b[38;5;132;01m{\u001b[39;00mnot_found\u001b[38;5;132;01m}\u001b[39;00m\u001b[33m not in index\u001b[39m\u001b[33m\"\u001b[39m)\n",
      "\u001b[31mKeyError\u001b[39m: \"None of [Index(['RM', 'LSTAT', 'PTRATIO', 'PRICE'], dtype='object')] are in the [columns]\""
     ]
    }
   ],
   "source": [
    "print(df.columns)\n",
    "print(df.describe())\n",
    "\n",
    "sns.pairplot(df[['RM', 'LSTAT', 'PTRATIO', 'PRICE']])\n",
    "plt.show()"
   ]
  },
  {
   "cell_type": "code",
   "execution_count": 13,
   "id": "13bd6036-d3b8-4570-a610-492b0b3ce607",
   "metadata": {},
   "outputs": [
    {
     "name": "stdout",
     "output_type": "stream",
     "text": [
      "['date', 'median_sale_price', 'median_list_price', 'median_ppsf', 'median_list_ppsf', 'homes_sold', 'pending_sales', 'new_listings', 'inventory', 'median_dom', 'avg_sale_to_list', 'sold_above_list', 'off_market_in_two_weeks', 'city', 'zipcode', 'year', 'bank', 'bus', 'hospital', 'mall', 'park', 'restaurant', 'school', 'station', 'supermarket', 'Total Population', 'Median Age', 'Per Capita Income', 'Total Families Below Poverty', 'Total Housing Units', 'Median Rent', 'Median Home Value', 'Total Labor Force', 'Unemployed Population', 'Total School Age Population', 'Total School Enrollment', 'Median Commute Time', 'price', 'city_full']\n"
     ]
    }
   ],
   "source": [
    "print(df.columns.tolist())"
   ]
  },
  {
   "cell_type": "code",
   "execution_count": 14,
   "id": "8a831188-8e22-4e9e-a600-969bbbbdb330",
   "metadata": {},
   "outputs": [],
   "source": [
    "features = [\n",
    "    'median_list_price', 'median_ppsf', 'median_list_ppsf', 'homes_sold', 'pending_sales',\n",
    "    'new_listings', 'inventory', 'median_dom', 'avg_sale_to_list', 'sold_above_list', 'off_market_in_two_weeks',\n",
    "    'Total Population', 'Median Age', 'Per Capita Income', 'Total Families Below Poverty',\n",
    "    'Total Housing Units', 'Median Rent', 'Median Home Value', 'Total Labor Force', 'Unemployed Population',\n",
    "    'Total School Age Population', 'Total School Enrollment', 'Median Commute Time',\n",
    "    'bank', 'bus', 'hospital', 'mall', 'park', 'restaurant', 'school', 'station', 'supermarket'\n",
    "]\n",
    "\n",
    "target = 'price'  # or 'median_sale_price'"
   ]
  },
  {
   "cell_type": "code",
   "execution_count": 15,
   "id": "594f5f8c-496e-4556-9184-d5bbbd1fae6a",
   "metadata": {},
   "outputs": [],
   "source": [
    "# Drop rows with missing values in these columns (simple approach)\n",
    "df_model = df[features + [target]].dropna()"
   ]
  },
  {
   "cell_type": "code",
   "execution_count": 16,
   "id": "f6b9159f-f7b9-43fd-8eb8-1cf881f01a57",
   "metadata": {},
   "outputs": [],
   "source": [
    "X = df_model[features]\n",
    "y = df_model[target]"
   ]
  },
  {
   "cell_type": "code",
   "execution_count": 17,
   "id": "6c675521-c647-4f9a-8415-c1cb2afc571b",
   "metadata": {},
   "outputs": [
    {
     "name": "stdout",
     "output_type": "stream",
     "text": [
      "Mean Squared Error: 23356009003.250046\n"
     ]
    }
   ],
   "source": [
    "from sklearn.model_selection import train_test_split\n",
    "from sklearn.linear_model import LinearRegression\n",
    "from sklearn.metrics import mean_squared_error\n",
    "\n",
    "X_train, X_test, y_train, y_test = train_test_split(X, y, test_size=0.2, random_state=42)\n",
    "\n",
    "model = LinearRegression()\n",
    "model.fit(X_train, y_train)\n",
    "\n",
    "y_pred = model.predict(X_test)\n",
    "mse = mean_squared_error(y_test, y_pred)\n",
    "\n",
    "print(f\"Mean Squared Error: {mse}\")\n"
   ]
  },
  {
   "cell_type": "code",
   "execution_count": 18,
   "id": "e42a330b-d208-406d-a937-b9f69a870aa3",
   "metadata": {},
   "outputs": [
    {
     "name": "stdout",
     "output_type": "stream",
     "text": [
      "sold_above_list                 68825.502369\n",
      "off_market_in_two_weeks         15542.939984\n",
      "mall                             1387.790454\n",
      "station                          1147.655102\n",
      "bank                             1126.255016\n",
      "supermarket                       545.790566\n",
      "homes_sold                        193.530152\n",
      "median_list_ppsf                  141.530193\n",
      "new_listings                       40.456848\n",
      "median_dom                         38.661658\n",
      "Total School Age Population        26.766991\n",
      "Total School Enrollment            26.766990\n",
      "median_ppsf                        18.412028\n",
      "Total Families Below Poverty       14.292257\n",
      "Per Capita Income                   1.194452\n",
      "Median Home Value                   1.132864\n",
      "Median Commute Time                 1.076130\n",
      "median_list_price                   0.005706\n",
      "Total Housing Units                -0.502152\n",
      "Unemployed Population             -13.264979\n",
      "Total Labor Force                 -14.148262\n",
      "pending_sales                     -33.391390\n",
      "Median Rent                       -56.315207\n",
      "Total Population                  -59.557341\n",
      "inventory                         -71.054880\n",
      "park                             -126.278929\n",
      "restaurant                       -193.290912\n",
      "school                           -326.687797\n",
      "hospital                         -570.470858\n",
      "bus                              -696.041469\n",
      "Median Age                      -7583.551716\n",
      "avg_sale_to_list               -28767.555502\n",
      "dtype: float64\n"
     ]
    }
   ],
   "source": [
    "coefficients = pd.Series(model.coef_, index=features)\n",
    "print(coefficients.sort_values(ascending=False))\n"
   ]
  },
  {
   "cell_type": "code",
   "execution_count": 19,
   "id": "894f8aad-784c-403e-b3b8-7e700dda53ca",
   "metadata": {},
   "outputs": [
    {
     "data": {
      "image/png": "[encoded data removed]",
      "text/plain": [
       "<Figure size 640x480 with 1 Axes>"
      ]
     },
     "metadata": {},
     "output_type": "display_data"
    }
   ],
   "source": [
    "df['year'] = pd.to_datetime(df['date']).dt.year\n",
    "\n",
    "yearly_avg = df.groupby('year')[features + [target]].mean()\n",
    "\n",
    "import matplotlib.pyplot as plt\n",
    "\n",
    "plt.plot(yearly_avg.index, yearly_avg[target])\n",
    "plt.title('Average House Price Over Years')\n",
    "plt.xlabel('Year')\n",
    "plt.ylabel('Average Price')\n",
    "plt.show()"
   ]
  },
  {
   "cell_type": "code",
   "execution_count": 20,
   "id": "a05d91f8-1977-414e-a0c2-0143bfa094e5",
   "metadata": {},
   "outputs": [
    {
     "name": "stdout",
     "output_type": "stream",
     "text": [
      "Available years: [2012 2013 2014 2015 2016 2017 2018 2019 2020 2021 2022 2023]\n"
     ]
    }
   ],
   "source": [
    "# Convert 'date' column to datetime dtype if not already\n",
    "df['date'] = pd.to_datetime(df['date'], errors='coerce')\n",
    "\n",
    "# Create a new column 'year'\n",
    "df['year'] = df['date'].dt.year\n",
    "\n",
    "print(\"Available years:\", df['year'].unique())"
   ]
  },
  {
   "cell_type": "code",
   "execution_count": 21,
   "id": "28d3dd82-43a6-4b8e-9a61-f25d847789ee",
   "metadata": {},
   "outputs": [
    {
     "name": "stdout",
     "output_type": "stream",
     "text": [
      "Average house price in 2023: $538,811.69\n"
     ]
    }
   ],
   "source": [
    "# Make sure the 'year' column exists\n",
    "df['date'] = pd.to_datetime(df['date'], errors='coerce')\n",
    "df['year'] = df['date'].dt.year\n",
    "\n",
    "# Filter for 2023 and compute the average price\n",
    "avg_price_2023 = df.loc[df['year'] == 2023, 'price'].mean()\n",
    "\n",
    "print(f\"Average house price in 2023: ${avg_price_2023:,.2f}\")"
   ]
  },
  {
   "cell_type": "code",
   "execution_count": 24,
   "id": "943ef038-92e9-4f6c-be31-dec432948088",
   "metadata": {},
   "outputs": [
    {
     "name": "stdout",
     "output_type": "stream",
     "text": [
      "Average house price in 2012: $263,871.80\n"
     ]
    }
   ],
   "source": [
    "# Make sure the 'year' column exists\n",
    "df['date'] = pd.to_datetime(df['date'], errors='coerce')\n",
    "df['year'] = df['date'].dt.year\n",
    "\n",
    "# Filter for 2023 and compute the average price\n",
    "avg_price_2012 = df.loc[df['year'] == 2012, 'price'].mean()\n",
    "\n",
    "print(f\"Average house price in 2012: ${avg_price_2012:,.2f}\")\n"
   ]
  },
  {
   "cell_type": "code",
   "execution_count": 25,
   "id": "7b08e202-04ed-4687-96ea-a2f6652f2a8b",
   "metadata": {},
   "outputs": [],
   "source": [
    "# Ensure 'date' is in datetime format\n",
    "df['date'] = pd.to_datetime(df['date'], errors='coerce')\n",
    "\n",
    "# Extract year and month\n",
    "df['year'] = df['date'].dt.year\n",
    "df['month'] = df['date'].dt.month\n"
   ]
  },
  {
   "cell_type": "code",
   "execution_count": 26,
   "id": "0bae09df-51f9-4b73-862b-3fba35fdb4df",
   "metadata": {},
   "outputs": [],
   "source": [
    "# Filter for each year\n",
    "df_2023 = df[df['year'] == 2023]\n",
    "df_2012 = df[df['year'] == 2012]\n",
    "\n",
    "# Group by month and calculate average price\n",
    "avg_price_2023 = df_2023.groupby('month')['price'].mean()\n",
    "avg_price_2012 = df_2012.groupby('month')['price'].mean()\n"
   ]
  },
  {
   "cell_type": "code",
   "execution_count": 27,
   "id": "1b5162bb-6ff0-448d-bc69-583fd0e5e2e4",
   "metadata": {},
   "outputs": [
    {
     "data": {
      "image/png": "[encoded data removed]",
      "text/plain": [
       "<Figure size 1000x600 with 1 Axes>"
      ]
     },
     "metadata": {},
     "output_type": "display_data"
    }
   ],
   "source": [
    "import matplotlib.pyplot as plt\n",
    "\n",
    "plt.figure(figsize=(10, 6))\n",
    "\n",
    "# Plot each year's data\n",
    "plt.plot(avg_price_2023.index, avg_price_2023.values, marker='o', label='2023')\n",
    "plt.plot(avg_price_2012.index, avg_price_2012.values, marker='s', label='2012')\n",
    "\n",
    "# Customize plot\n",
    "plt.title('Average House Price by Month: 2023 vs 2012')\n",
    "plt.xlabel('Month')\n",
    "plt.ylabel('Average Price')\n",
    "plt.xticks(ticks=range(1, 13), labels=[\n",
    "    'Jan', 'Feb', 'Mar', 'Apr', 'May', 'Jun',\n",
    "    'Jul', 'Aug', 'Sep', 'Oct', 'Nov', 'Dec'\n",
    "])\n",
    "plt.legend()\n",
    "plt.grid(True)\n",
    "plt.tight_layout()\n",
    "\n",
    "plt.show()\n"
   ]
  },
  {
   "cell_type": "code",
   "execution_count": null,
   "id": "5a05238e-475f-479b-bed4-6faf968749e3",
   "metadata": {},
   "outputs": [],
   "source": []
  }
 ],
 "metadata": {
  "kernelspec": {
   "display_name": "Python (pro1)",
   "language": "python",
   "name": "pro1"
  },
  "language_info": {
   "codemirror_mode": {
    "name": "ipython",
    "version": 3
   },
   "file_extension": ".py",
   "mimetype": "text/x-python",
   "name": "python",
   "nbconvert_exporter": "python",
   "pygments_lexer": "ipython3",
   "version": "3.11.0"
  }
 },
 "nbformat": 4,
 "nbformat_minor": 5
}
